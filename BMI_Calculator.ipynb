{
 "cells": [
  {
   "cell_type": "code",
   "execution_count": 3,
   "id": "e1344a08",
   "metadata": {},
   "outputs": [
    {
     "name": "stdout",
     "output_type": "stream",
     "text": [
      "Enter you name: Owais\n",
      "Enter your weight in kilograms: 69\n",
      "Enter your height in meters: 1.74\n",
      "22.79032897344431\n",
      "Owais , you are Normal Weight!\n"
     ]
    }
   ],
   "source": [
    "name = input(\"Enter you name: \")\n",
    "\n",
    "weight = float(input (\"Enter your weight in kilograms: \"))\n",
    "\n",
    "height = float(input (\"Enter your height in meters: \"))\n",
    "\n",
    "BMI = (weight) / (height * height)\n",
    "\n",
    "print(BMI)\n",
    "\n",
    "if BMI>0:\n",
    "    if BMI<18.5:\n",
    "        print(name,', you are Underweight')\n",
    "    elif BMI<=24.9:\n",
    "        print(name,', you are Normal Weight!')\n",
    "    elif BMI<=29.9:\n",
    "        print(name,', you are Overweight')\n",
    "    elif BMI<=34.9:\n",
    "        print(name,', you are Obese')\n",
    "    elif (BMI<=39.9):\n",
    "        print(name,\", you are severely obese.\")\n",
    "    else:\n",
    "        print(name,\", you are morbidly obese.\")\n",
    "else:\n",
    "    print(\"Enter valid input\")"
   ]
  },
  {
   "cell_type": "code",
   "execution_count": null,
   "id": "b59376fb",
   "metadata": {},
   "outputs": [],
   "source": []
  }
 ],
 "metadata": {
  "kernelspec": {
   "display_name": "Python 3 (ipykernel)",
   "language": "python",
   "name": "python3"
  },
  "language_info": {
   "codemirror_mode": {
    "name": "ipython",
    "version": 3
   },
   "file_extension": ".py",
   "mimetype": "text/x-python",
   "name": "python",
   "nbconvert_exporter": "python",
   "pygments_lexer": "ipython3",
   "version": "3.11.5"
  }
 },
 "nbformat": 4,
 "nbformat_minor": 5
}
